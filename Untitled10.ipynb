{
  "nbformat": 4,
  "nbformat_minor": 0,
  "metadata": {
    "colab": {
      "provenance": []
    },
    "kernelspec": {
      "name": "python3",
      "display_name": "Python 3"
    },
    "language_info": {
      "name": "python"
    }
  },
  "cells": [
    {
      "cell_type": "code",
      "execution_count": 19,
      "metadata": {
        "id": "jzQeoF834d3T"
      },
      "outputs": [],
      "source": [
        "import gspread\n",
        "import csv\n",
        "from collections import defaultdict\n",
        "from datetime import datetime, timedelta\n",
        "import pandas as pd\n",
        "# Read the CSV file into a Pandas DataFrame\n",
        "data = pd.read_csv('/content/Assignment_Timecard.xlsx - Sheet1.csv')"
      ]
    },
    {
      "cell_type": "code",
      "source": [
        "Time_in = 'Time'\n",
        "time_in = data[Time_in]\n",
        "# Print the selected column\n",
        "print(time_in)\n",
        "Time_out = 'Time Out'\n",
        "time_out = data[Time_out]\n",
        "# Print the selected column\n",
        "print(time_out)"
      ],
      "metadata": {
        "id": "Bhq-JO87Px5g",
        "outputId": "8df1b952-afff-470b-d476-a5f3c6ce36e2",
        "colab": {
          "base_uri": "https://localhost:8080/"
        }
      },
      "execution_count": 48,
      "outputs": [
        {
          "output_type": "stream",
          "name": "stdout",
          "text": [
            "0                       NaN\n",
            "1       09/12/2023 10:08 AM\n",
            "2       09/12/2023 02:23 PM\n",
            "3       09/13/2023 10:08 AM\n",
            "4       09/13/2023 02:50 PM\n",
            "               ...         \n",
            "1479    09/20/2023 09:55 AM\n",
            "1480    09/20/2023 03:00 PM\n",
            "1481    09/21/2023 09:56 AM\n",
            "1482    09/21/2023 03:00 PM\n",
            "1483                    NaN\n",
            "Name: Time, Length: 1484, dtype: object\n",
            "0                       NaN\n",
            "1       09/12/2023 01:53 PM\n",
            "2       09/12/2023 07:02 PM\n",
            "3       09/13/2023 02:20 PM\n",
            "4       09/13/2023 08:44 PM\n",
            "               ...         \n",
            "1479    09/20/2023 02:30 PM\n",
            "1480    09/20/2023 07:29 PM\n",
            "1481    09/21/2023 02:30 PM\n",
            "1482    09/21/2023 07:16 PM\n",
            "1483                    NaN\n",
            "Name: Time Out, Length: 1484, dtype: object\n"
          ]
        }
      ]
    },
    {
      "cell_type": "code",
      "source": [
        "# Calculate the time difference between \"time_in\" and \"time_out\"\n",
        "data['time_in'] = pd.to_datetime(data['time_in'])\n",
        "data['time_out'] = pd.to_datetime(data['time_out'])\n",
        "data['work_hours'] = (data['time_out'] - data['time_in']).dt.total_seconds() / 3600  # Convert to hours\n"
      ],
      "metadata": {
        "id": "u6jbGae6MpCP"
      },
      "execution_count": 49,
      "outputs": []
    },
    {
      "cell_type": "code",
      "source": [
        "# Filter employees who worked more than 14 hours\n",
        "employees_more_than_10_hours = data[data['work_hours'] > 14]"
      ],
      "metadata": {
        "id": "bzNK2URRNzAJ"
      },
      "execution_count": 50,
      "outputs": []
    },
    {
      "cell_type": "code",
      "source": [
        "# Print the names of those employees\n",
        "print(employees_more_than_10_hours['Employee Name'])"
      ],
      "metadata": {
        "id": "p2-ocFKBN2d1",
        "outputId": "f8181b34-545b-428f-ed11-11062e467f57",
        "colab": {
          "base_uri": "https://localhost:8080/"
        }
      },
      "execution_count": 52,
      "outputs": [
        {
          "output_type": "stream",
          "name": "stdout",
          "text": [
            "1036    DeXgadiXXE REdarMe, ChrisMiaW S\n",
            "Name: Employee Name, dtype: object\n"
          ]
        }
      ]
    },
    {
      "cell_type": "code",
      "source": [
        "# Convert the \"time_in\" and \"time_out\" columns to datetime objects\n",
        "#data['time_in'] = pd.to_datetime(data['time_in'])\n",
        "#data['time_out'] = pd.to_datetime(data['time_out'])\n"
      ],
      "metadata": {
        "id": "4Ri1NSwDRNRG"
      },
      "execution_count": 71,
      "outputs": []
    },
    {
      "cell_type": "code",
      "source": [
        "data['time_in'] = pd.to_datetime(data['time_in'], format='%m-%d-%Y %I:%M %p')\n",
        "data['time_out'] = pd.to_datetime(data['time_out'], format='%m-%d-%Y %I:%M %p')\n",
        "data.sort_values(['Employee Name', 'time_in'], inplace=True)\n",
        "consecutive_work_days = []\n",
        "previous_date = None\n",
        "consecutive_count = 0\n",
        "unique_employees = set()\n",
        "\n",
        "for _, row in data.iterrows():\n",
        "    current_date = row['time_in'].date()\n",
        "    employee_name = row['Employee Name']\n",
        "\n",
        "    # Check if the current date is not NaT (valid date)\n",
        "    if not pd.isna(current_date):\n",
        "        if current_date != previous_date:\n",
        "            consecutive_count = 0  # Reset count when the date changes\n",
        "            unique_employees.clear()\n",
        "\n",
        "        # Check if the employee is unique for the current date\n",
        "        if employee_name not in unique_employees:\n",
        "            unique_employees.add(employee_name)\n",
        "            consecutive_count += 1\n",
        "\n",
        "        # Check if the employee worked for 7 consecutive days\n",
        "        if consecutive_count ==7:\n",
        "            consecutive_work_days.append(employee_name)\n",
        "\n",
        "        previous_date = current_date\n",
        "\n",
        "print(\"Employees who have worked for 7 consecutive days:\")\n",
        "print(consecutive_work_days)\n"
      ],
      "metadata": {
        "id": "EA-rz2irWmol",
        "outputId": "cac137c6-b8bf-4a4f-bbc7-8ee629c510f1",
        "colab": {
          "base_uri": "https://localhost:8080/"
        }
      },
      "execution_count": 92,
      "outputs": [
        {
          "output_type": "stream",
          "name": "stdout",
          "text": [
            "Employees who have worked for 7 consecutive days:\n",
            "[]\n"
          ]
        }
      ]
    },
    {
      "cell_type": "code",
      "source": [
        "# Sort the data by employee_name and time_in\n",
        "data = data.sort_values(by=['Employee Name', 'time_in'])\n",
        "short_breaks = []\n",
        "\n",
        "# Iterate through the DataFrame to find employees with short breaks\n",
        "for name, group in data.groupby('Employee Name'):\n",
        "    prev_time_out = None\n",
        "    for index, row in group.iterrows():\n",
        "        if prev_time_out is not None:\n",
        "            time_diff = (row['time_in'] - prev_time_out).total_seconds() / 3600  # Calculate time difference in hours\n",
        "            if 1 < time_diff < 10:\n",
        "                short_breaks.append(name)\n",
        "        prev_time_out = row['time_out']\n",
        "\n",
        "# Remove duplicate names\n",
        "short_breaks = list(set(short_breaks))\n",
        "\n",
        "# Print the names of employees with short breaks\n",
        "print(\"Employees with less than 10 hours between shifts but more than 1 hour:\")\n",
        "for employee in short_breaks:\n",
        "    print(employee)"
      ],
      "metadata": {
        "id": "PnHhkfBRaG77",
        "outputId": "de506c91-c052-415d-8e92-5c9842a87f5c",
        "colab": {
          "base_uri": "https://localhost:8080/"
        }
      },
      "execution_count": 94,
      "outputs": [
        {
          "output_type": "stream",
          "name": "stdout",
          "text": [
            "Employees with less than 10 hours between shifts but more than 1 hour:\n",
            "MraW, WiXXiaC Ha\n",
            "De Xa Cerda, IgWaciE\n",
            "CaMaXaWE, CeghaW\n",
            "REdrigAez, GraWdEW AWgeX\n",
            "DeXgadiXXE REdarMe, ChrisMiaW S\n",
            "HaCiXMEW, DeaWMe DevEW\n",
            "CEreira Jr, JEse\n",
            "Xee, XaCar\n"
          ]
        }
      ]
    }
  ]
}